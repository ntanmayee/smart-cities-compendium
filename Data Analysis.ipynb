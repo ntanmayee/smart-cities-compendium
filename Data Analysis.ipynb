{
 "cells": [
  {
   "cell_type": "markdown",
   "metadata": {},
   "source": [
    "# Analysis of CSTEP Compendium on Smart Cities\n",
    "\n",
    "In September 2015, CSTEP released a compendium of resources on Smart Cities. In their own words, \"The purpose of this Compendium is to provide policy makers, academicians, industry and all other stakeholders interested in ‘Smart Cities’ a collection of different types of resources pertaining to smart cities.\" The compendium may be [found here](http://www.cstep.in/uploads/default/files/publications/stuff/320f73a9fd318538a3d258e8dfe180e4.pdf \"CSTEP Compendium\").\n",
    "\n",
    "For the class on Smart Cities in IIIT Bangalore, we were required to find the similarities and differences between these definitions by different stakeholders. \n",
    "\n",
    "Each definition, the report provides a list of corresponding key-words. The frequency of these key-words are analysed below. "
   ]
  },
  {
   "cell_type": "code",
   "execution_count": 1,
   "metadata": {
    "collapsed": false
   },
   "outputs": [
    {
     "name": "stderr",
     "output_type": "stream",
     "text": [
      "/usr/lib/python2.7/dist-packages/matplotlib/font_manager.py:273: UserWarning: Matplotlib is building the font cache using fc-list. This may take a moment.\n",
      "  warnings.warn('Matplotlib is building the font cache using fc-list. This may take a moment.')\n"
     ]
    }
   ],
   "source": [
    "%matplotlib inline\n",
    "from os import listdir\n",
    "from os.path import isfile, join\n",
    "import collections\n",
    "import matplotlib.pyplot as plt\n",
    "import pandas as pd"
   ]
  },
  {
   "cell_type": "markdown",
   "metadata": {},
   "source": [
    "Key-words are grouped for particular stake holders. Key-words are comma separated."
   ]
  },
  {
   "cell_type": "code",
   "execution_count": 2,
   "metadata": {
    "collapsed": false
   },
   "outputs": [],
   "source": [
    "path = \"./data\"\n",
    "onlyfiles = [f for f in listdir(path) if isfile(join(path, f))]\n",
    "onlyfiles = [path+'/'+p for p in onlyfiles]"
   ]
  },
  {
   "cell_type": "code",
   "execution_count": 3,
   "metadata": {
    "collapsed": false
   },
   "outputs": [],
   "source": [
    "keyword_freq = {}\n",
    "for fname in onlyfiles:\n",
    "    with open(fname) as f:\n",
    "        for line in f:\n",
    "            terms = line.split(',')\n",
    "            for word in terms:\n",
    "                word = word.rstrip()\n",
    "                word = word.lower()\n",
    "                word = word.strip()\n",
    "                word = word.replace(' ', '~')\n",
    "                try:\n",
    "                    keyword_freq[word] += 1\n",
    "                except:\n",
    "                    keyword_freq[word] = 1"
   ]
  },
  {
   "cell_type": "code",
   "execution_count": 4,
   "metadata": {
    "collapsed": false
   },
   "outputs": [
    {
     "data": {
      "text/plain": [
       "236"
      ]
     },
     "execution_count": 4,
     "metadata": {},
     "output_type": "execute_result"
    }
   ],
   "source": [
    "keyword_freq.pop('')"
   ]
  },
  {
   "cell_type": "code",
   "execution_count": 5,
   "metadata": {
    "collapsed": true
   },
   "outputs": [],
   "source": [
    "od = collections.OrderedDict(sorted(keyword_freq.items()))"
   ]
  },
  {
   "cell_type": "code",
   "execution_count": 6,
   "metadata": {
    "collapsed": true
   },
   "outputs": [
    {
     "name": "stdout",
     "output_type": "stream",
     "text": [
      "6 buildings\n",
      "4 business\n",
      "5 citizens\n",
      "5 development\n",
      "9 economic\n",
      "6 economic~development\n",
      "3 economic~growth\n",
      "13 economy\n",
      "7 education\n",
      "5 efficiency\n",
      "9 efficient\n",
      "15 energy\n",
      "15 environment\n",
      "8 governance\n",
      "6 government\n",
      "5 growth\n",
      "3 healthcare\n",
      "4 human~capital\n",
      "28 ict\n",
      "3 ict~infrastructure\n",
      "7 information\n",
      "10 infrastructure\n",
      "7 innovation\n",
      "10 integrated\n",
      "3 integration\n",
      "3 interactive\n",
      "4 living\n",
      "3 materials\n",
      "10 mobility\n",
      "4 natural~resource~management\n",
      "3 participatory~governance\n",
      "8 people\n",
      "25 quality~of~life\n",
      "4 resources\n",
      "3 responsive\n",
      "3 security\n",
      "8 services\n",
      "9 social\n",
      "4 standard~of~living\n",
      "15 sustainability\n",
      "5 sustainable\n",
      "16 technology\n",
      "7 transport\n",
      "6 transportation\n",
      "4 urban\n",
      "3 urban~development\n",
      "4 urban~planning\n",
      "4 waste\n",
      "9 water\n",
      "3 well-being\n"
     ]
    }
   ],
   "source": [
    "# Use only those terms that have a frequency more than threshold, to avoid making the word cloud too cluttered\n",
    "threshold = 2\n",
    "for key, value in od.iteritems():\n",
    "    if value>threshold:\n",
    "        print value, key"
   ]
  },
  {
   "cell_type": "markdown",
   "metadata": {},
   "source": [
    "I used [Wordclouds](http://www.wordclouds.com/) to generate the wordcloud. \n",
    "## Word Cloud of keywords from all stakeholders\n",
    "The size of the word is directly proportional to the number of times it appears as a keyword.\n",
    "![Image](./wordcloud/wordcloud_academic_clean.png)"
   ]
  },
  {
   "cell_type": "markdown",
   "metadata": {},
   "source": [
    "More wordclouds can be found in the </wordclouds> folder"
   ]
  }
 ],
 "metadata": {
  "kernelspec": {
   "display_name": "Python 2",
   "language": "python",
   "name": "python2"
  },
  "language_info": {
   "codemirror_mode": {
    "name": "ipython",
    "version": 2
   },
   "file_extension": ".py",
   "mimetype": "text/x-python",
   "name": "python",
   "nbconvert_exporter": "python",
   "pygments_lexer": "ipython2",
   "version": "2.7.12"
  }
 },
 "nbformat": 4,
 "nbformat_minor": 0
}
